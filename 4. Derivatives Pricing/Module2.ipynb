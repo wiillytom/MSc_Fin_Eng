{
 "cells": [
  {
   "cell_type": "code",
   "execution_count": 1,
   "id": "2c82ffcb",
   "metadata": {},
   "outputs": [],
   "source": [
    "import numpy as np"
   ]
  },
  {
   "cell_type": "code",
   "execution_count": 5,
   "id": "62b34cb1",
   "metadata": {},
   "outputs": [],
   "source": [
    "def american_option_vol(s_ini, K, T, r, sig, N, opttype):\n",
    "    dt = T/N\n",
    "    u = np.exp(sig*np.sqrt(dt))\n",
    "    d = np.exp(-sig*np.sqrt(dt))\n",
    "    p = (np.exp(r*dt)-d)/(u-d)\n",
    "    C = np.zeros([N+1, N+1])\n",
    "    S = np.zeros([N+1, N+1])\n",
    "    for i in range(N+1):\n",
    "        S[N,i] = s_ini* (u**i) * (d**(N-i))\n",
    "        if opttype=='C':\n",
    "            C[N,i] = max(S[N,i]-K,0)\n",
    "        else:\n",
    "            C[N,i] = max(K-S[N,i],0)\n",
    "    for i in range(N-1, -1,-1):\n",
    "        for j in range(0,i+1):\n",
    "            S[i,j] = s_ini * (u**j) * (d**(i-j))\n",
    "            if opttype=='C':\n",
    "                C[i,j] = np.exp(-r*dt)*(p*C[i+1,j+1] + (1-p)*C[i+1, j])\n",
    "            else:\n",
    "                euro_price = np.exp(-r*dt)*(p*C[i+1,j+1] + (1-p)*C[i+1, j])\n",
    "                C[i,j] = max(K-S[i,j], euro_price)\n",
    "    return C[0,0], S, C"
   ]
  },
  {
   "cell_type": "code",
   "execution_count": 7,
   "id": "f4474d86",
   "metadata": {},
   "outputs": [
    {
     "name": "stdout",
     "output_type": "stream",
     "text": [
      "29.89924076633092\n"
     ]
    }
   ],
   "source": [
    "price, C, S = american_option_vol(100, 90, 10, 0, 0.3, 10, \"P\")\n",
    "print(price)"
   ]
  },
  {
   "cell_type": "code",
   "execution_count": 8,
   "id": "846da471",
   "metadata": {},
   "outputs": [
    {
     "name": "stdout",
     "output_type": "stream",
     "text": [
      "With N =   1, the price is 19.14\n",
      "With N =  10, the price is 17.26\n",
      "With N = 100, the price is 17.02\n",
      "With N = 200, the price is 17.03\n",
      "With N = 300, the price is 17.01\n",
      "With N = 400, the price is 17.02\n",
      "With N = 500, the price is 17.01\n",
      "With N = 600, the price is 17.02\n",
      "With N = 700, the price is 17.02\n",
      "With N = 800, the price is 17.01\n",
      "With N = 900, the price is 17.01\n",
      "With N = 1000, the price is 17.02\n",
      "With N = 1500, the price is 17.01\n",
      "With N = 2000, the price is 17.01\n",
      "With N = 2500, the price is 17.01\n"
     ]
    }
   ],
   "source": [
    "price_array = []\n",
    "for N in [1, 10, 100, 200, 300, 400, 500, 600, 700, 800, 900, 1000, 1500, 2000, 2500]:\n",
    "    call_price, C, S = american_option_vol(100, 90, 1, 0, 0.3, N, \"C\")\n",
    "    price_array.append(call_price)\n",
    "    print(\"With N = {:3d}, the price is {:.2f}\".format(N, call_price))"
   ]
  },
  {
   "cell_type": "code",
   "execution_count": 9,
   "id": "2c197e07",
   "metadata": {},
   "outputs": [
    {
     "data": {
      "image/png": "[encoded data removed]",
      "text/plain": [
       "<Figure size 640x480 with 1 Axes>"
      ]
     },
     "metadata": {},
     "output_type": "display_data"
    }
   ],
   "source": [
    "import matplotlib.pyplot as plt\n",
    "\n",
    "N = [1, 10, 100, 200, 300, 400, 500, 600, 700, 800, 900, 1000, 1500, 2000, 2500]\n",
    "plt.plot(N, np.array(price_array))\n",
    "plt.title(\"Convergency with steps\")\n",
    "plt.xlabel(\"Number of steps (N)\")\n",
    "plt.ylabel(\"American Option Price\")\n",
    "plt.grid(True)\n",
    "plt.show()"
   ]
  },
  {
   "cell_type": "markdown",
   "id": "36ea2a0a",
   "metadata": {},
   "source": [
    "# L3 DYNAMIC DELTA HEDGING"
   ]
  },
  {
   "cell_type": "code",
   "execution_count": 42,
   "id": "0737e49a",
   "metadata": {},
   "outputs": [],
   "source": [
    "def american_option(s_ini, K, T, r, u, d, N, opttype):\n",
    "    dt= T/N\n",
    "    p = (np.exp(r*dt)-d)/(u-d)\n",
    "    O = np.zeros([N+1, N+1])\n",
    "    S = np.zeros([N+1, N+1])\n",
    "    Delta = np.zeros([N,N])\n",
    "\n",
    "    for i in range(N+1):\n",
    "        S[N,i] = s_ini * (u**i) * (d**(N-i))\n",
    "        if opttype=='C':\n",
    "            O[N,i] = max(S[N,i]-K,0)\n",
    "        else:\n",
    "            O[N,i] = max(K-S[N,i],0)\n",
    "    for i in range(N-1, -1, -1):\n",
    "        for j in range(0,i+1):\n",
    "            S[i,j] = s_ini * (u**j) * (d**(i-j))\n",
    "            euro_price = np.exp(-r*dt)*(p*O[i+1, j+1] + (1-p)*O[i+1,j])\n",
    "            if opttype=='C':\n",
    "                O[i,j] = max(euro_price, max(S[i,j]-K,0))\n",
    "                Delta[i,j] = (O[i+1,j+1]-O[i+1,j])/(S[i+1,j+1]-S[i+1,j])\n",
    "            else:\n",
    "                O[i,j] = max(euro_price, max(K-S[i,j],0))\n",
    "                Delta[i,j] = (O[i+1,j+1]-O[i+1,j])/(S[i+1,j+1]-S[i+1,j])\n",
    "    return O[0,0], O, S, Delta"
   ]
  },
  {
   "cell_type": "code",
   "execution_count": 29,
   "id": "6118fb0b",
   "metadata": {},
   "outputs": [],
   "source": [
    "def european_option(S_ini, K, T, r, u, d, N, opttype):\n",
    "    dt = T / N  # Define time step\n",
    "    p = (np.exp(r * dt) - d) / (u - d)  # risk neutral probs\n",
    "    C = np.zeros([N + 1, N + 1])  # call prices\n",
    "    S = np.zeros([N + 1, N + 1])  # underlying price\n",
    "    Delta = np.zeros([N, N])  # delta\n",
    "\n",
    "    for i in range(0, N + 1):\n",
    "        S[N, i] = S_ini * (u ** (i)) * (d ** (N - i))\n",
    "        if opttype == \"C\":\n",
    "            C[N, i] = max(S[N, i] - K, 0)\n",
    "        else:\n",
    "            C[N, i] = max(K - S[N, i], 0)\n",
    "\n",
    "    for j in range(N - 1, -1, -1):\n",
    "        for i in range(0, j + 1):\n",
    "            C[j, i] = np.exp(-r * dt) * (\n",
    "                p * C[j + 1, i + 1] + (1 - p) * C[j + 1, i]\n",
    "            )  # Computing the European option prices\n",
    "            S[j, i] = (\n",
    "                S_ini * (u ** (i)) * (d ** (j - i))\n",
    "            )  # Underlying evolution for each node\n",
    "\n",
    "            Delta[j, i] = (C[j + 1, i + 1] - C[j + 1, i]) / (\n",
    "                S[j + 1, i + 1] - S[j + 1, i]\n",
    "            )  # Computing the delta for each node\n",
    "\n",
    "    return C[0, 0], C, S, Delta"
   ]
  },
  {
   "cell_type": "code",
   "execution_count": 46,
   "id": "b47085c7",
   "metadata": {},
   "outputs": [
    {
     "data": {
      "text/plain": [
       "array([[ True,  True,  True,  True,  True,  True],\n",
       "       [ True,  True,  True,  True,  True,  True],\n",
       "       [ True,  True,  True,  True,  True,  True],\n",
       "       [ True,  True,  True,  True,  True,  True],\n",
       "       [ True,  True,  True,  True,  True,  True],\n",
       "       [ True,  True,  True,  True,  True,  True]])"
      ]
     },
     "execution_count": 46,
     "metadata": {},
     "output_type": "execute_result"
    }
   ],
   "source": [
    "price_am, C_am, S_am, delta_am = american_option(50, 52, 5, 0.05, 1.2, 0.8, 5, \"C\")\n",
    "price_euro, C_euro, S_euro, delta_euro = european_option(50, 52, 5, 0.05, 1.2, 0.8, 5, \"C\")\n",
    "C_am>=C_euro"
   ]
  },
  {
   "cell_type": "markdown",
   "id": "630691ea",
   "metadata": {},
   "source": [
    "# L3 Path Dependent Option : do asian option pricer"
   ]
  },
  {
   "cell_type": "code",
   "execution_count": null,
   "id": "dcb26330",
   "metadata": {},
   "outputs": [],
   "source": [
    "def asian_option_binomial(s_ini, K, T, r, u, d, N):\n",
    "    dt = T/N\n",
    "    p = (np.exp(r*dt)-d)/u"
   ]
  },
  {
   "cell_type": "markdown",
   "id": "399542d2",
   "metadata": {},
   "source": [
    "# L4 Monte Carlo methods"
   ]
  },
  {
   "cell_type": "code",
   "execution_count": 47,
   "id": "91ef3b62",
   "metadata": {},
   "outputs": [],
   "source": [
    "def call_option_mc(S_ini, K, T, r, sigma, N, M):\n",
    "    dt = T/N\n",
    "    u = np.exp(sigma*np.sqrt(dt))\n",
    "    d = np.exp(-sigma*np.sqrt(dt))\n",
    "    p = (np.exp(r*dt)-d)/(u-d)\n",
    "    C = np.zeros([M])\n",
    "    S = np.zeros([M,N+1])\n",
    "    S[:,0] = S_ini\n",
    "    \n",
    "    for j in range(0,M):\n",
    "        random = np.random.binomial(1,p,N+1)\n",
    "        for i in range(1,N+1):\n",
    "            if random[i]==1:\n",
    "                S[j,i] = S[j,i-1]*u\n",
    "            else:\n",
    "                S[j,i] = S[j,i-1]*d\n",
    "            \n",
    "        C[j] = np.exp(-r*T)*max(S[j,N]-K,0)\n",
    "    return S,C\n"
   ]
  },
  {
   "cell_type": "code",
   "execution_count": 48,
   "id": "e81ba61a",
   "metadata": {},
   "outputs": [],
   "source": [
    "S, C = call_option_mc(\n",
    "    100, 90, 1, 0, 0.3, 2500, 15000\n",
    ")  # Prices 15000 different simulations"
   ]
  },
  {
   "cell_type": "code",
   "execution_count": 49,
   "id": "777e9485",
   "metadata": {},
   "outputs": [
    {
     "name": "stdout",
     "output_type": "stream",
     "text": [
      "16.988875530855477\n"
     ]
    }
   ],
   "source": [
    "print(np.mean(C))"
   ]
  },
  {
   "cell_type": "code",
   "execution_count": null,
   "id": "e117bc7e",
   "metadata": {},
   "outputs": [],
   "source": [
    "M = np.arange(1000, 16000)\n",
    "call_price = []"
   ]
  },
  {
   "cell_type": "code",
   "execution_count": null,
   "id": "38a3df5e",
   "metadata": {},
   "outputs": [],
   "source": [
    "for i in range(len(M)):\n",
    "    S,C = call_option_mc(100, 90, 1, 0, 0.3, 2500, M[i])\n",
    "    call_price.append(np.mean(C))"
   ]
  },
  {
   "cell_type": "code",
   "execution_count": null,
   "id": "8fade32e",
   "metadata": {},
   "outputs": [],
   "source": [
    "import matplotlib.pyplot as plt\n",
    "\n",
    "plt.plot(M, call_price)\n",
    "plt.axhline(y=17.01, color=\"r\", linestyle=\"-\", label=\"Binomial model price\")\n",
    "plt.ylim([14, 23])\n",
    "plt.title(\"MC Estimates for different # simulations\")\n",
    "plt.xlabel(\"Number of Simulations\")\n",
    "plt.ylabel(\"Call Option Price\")\n",
    "plt.grid(True)\n",
    "plt.legend()\n",
    "plt.show()"
   ]
  },
  {
   "cell_type": "code",
   "execution_count": 56,
   "id": "45cb9a4b",
   "metadata": {},
   "outputs": [],
   "source": [
    "def asian_option_mc(S_ini, K, T, r, sigma, N,M):\n",
    "    dt = T/N\n",
    "    u = np.exp(sigma*np.sqrt(dt))\n",
    "    d = np.exp(-sigma*np.sqrt(dt))\n",
    "    p = (np.exp(r*dt)-d)/(u-d)\n",
    "    Asian = np.zeros([M])\n",
    "    S = np.zeros([M, N+1])\n",
    "    S[:,0] = S_ini\n",
    "\n",
    "    for j in range(0,M):\n",
    "        random = np.random.binomial(1,p,N+1)\n",
    "        Total = S_ini\n",
    "        for i in range(1,N+1):\n",
    "            if random[i]==1:\n",
    "                S[j, i]= S[j, i-1]*u\n",
    "                Total += S[j,i]\n",
    "            else:\n",
    "                S[j,i]= S[j,i-1]*d\n",
    "                Total += S[j,i]\n",
    "        Asian[j] = np.exp(-r*T)*max( (Total/(N+1)) -K,0)\n",
    "\n",
    "    return S, Asian\n",
    "\n"
   ]
  },
  {
   "cell_type": "code",
   "execution_count": 57,
   "id": "356ef0d0",
   "metadata": {},
   "outputs": [],
   "source": [
    "S, Asian = asian_option_mc(100, 90, 1, 0, 0.3, 2500, 10000)"
   ]
  },
  {
   "cell_type": "code",
   "execution_count": 58,
   "id": "40a481bf",
   "metadata": {},
   "outputs": [
    {
     "name": "stdout",
     "output_type": "stream",
     "text": [
      "12.856452345462953\n"
     ]
    }
   ],
   "source": [
    "print(np.mean(Asian))"
   ]
  },
  {
   "cell_type": "code",
   "execution_count": null,
   "id": "f065dac3",
   "metadata": {},
   "outputs": [],
   "source": [
    "M = np.arange(1000, 16000, 1000)\n",
    "asian_price = []"
   ]
  },
  {
   "cell_type": "code",
   "execution_count": null,
   "id": "6dddc972",
   "metadata": {},
   "outputs": [],
   "source": [
    "# PREND BEAUCOUP DE TEMPS\n",
    "for i in range(len(M)):\n",
    "    S, Asian = asian_option_mc(100, 90, 1, 0, 0.3, 2500, M[i])\n",
    "    asian_price.append(np.mean(Asian))"
   ]
  }
 ],
 "metadata": {
  "kernelspec": {
   "display_name": "test_env",
   "language": "python",
   "name": "python3"
  },
  "language_info": {
   "codemirror_mode": {
    "name": "ipython",
    "version": 3
   },
   "file_extension": ".py",
   "mimetype": "text/x-python",
   "name": "python",
   "nbconvert_exporter": "python",
   "pygments_lexer": "ipython3",
   "version": "3.11.13"
  }
 },
 "nbformat": 4,
 "nbformat_minor": 5
}
