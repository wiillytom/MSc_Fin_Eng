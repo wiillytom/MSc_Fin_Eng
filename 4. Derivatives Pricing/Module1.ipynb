{
 "cells": [
  {
   "cell_type": "code",
   "execution_count": 1,
   "id": "d3951c51",
   "metadata": {},
   "outputs": [],
   "source": [
    "import numpy as np"
   ]
  },
  {
   "cell_type": "code",
   "execution_count": 22,
   "id": "e2d13dff",
   "metadata": {},
   "outputs": [
    {
     "data": {
      "text/plain": [
       "array([[100.,   0.,   0.],\n",
       "       [ 80., 120.,   0.],\n",
       "       [ 64.,  96., 144.]])"
      ]
     },
     "execution_count": 22,
     "metadata": {},
     "output_type": "execute_result"
    }
   ],
   "source": [
    "def binomial_tree(s_ini, T, u, d, N):\n",
    "    S = np.zeros([N+1, N+1])\n",
    "    for j in range(N,-1,-1):\n",
    "        for i in range(0,j+1):\n",
    "            S[j,i]= s_ini* (u**i) * (d**(j-i))\n",
    "    return S\n",
    "\n",
    "binomial_tree(100, 1, 1.2, 0.8, 2)"
   ]
  },
  {
   "cell_type": "code",
   "execution_count": 49,
   "id": "92345aea",
   "metadata": {},
   "outputs": [
    {
     "data": {
      "text/plain": [
       "(array([[100.        ,   0.        ,   0.        ,   0.        ,\n",
       "           0.        ,   0.        ,   0.        ,   0.        ,\n",
       "           0.        ,   0.        ,   0.        ],\n",
       "        [ 80.        , 120.        ,   0.        ,   0.        ,\n",
       "           0.        ,   0.        ,   0.        ,   0.        ,\n",
       "           0.        ,   0.        ,   0.        ],\n",
       "        [ 64.        ,  96.        , 144.        ,   0.        ,\n",
       "           0.        ,   0.        ,   0.        ,   0.        ,\n",
       "           0.        ,   0.        ,   0.        ],\n",
       "        [ 51.2       ,  76.8       , 115.2       , 172.8       ,\n",
       "           0.        ,   0.        ,   0.        ,   0.        ,\n",
       "           0.        ,   0.        ,   0.        ],\n",
       "        [ 40.96      ,  61.44      ,  92.16      , 138.24      ,\n",
       "         207.36      ,   0.        ,   0.        ,   0.        ,\n",
       "           0.        ,   0.        ,   0.        ],\n",
       "        [ 32.768     ,  49.152     ,  73.728     , 110.592     ,\n",
       "         165.888     , 248.832     ,   0.        ,   0.        ,\n",
       "           0.        ,   0.        ,   0.        ],\n",
       "        [ 26.2144    ,  39.3216    ,  58.9824    ,  88.4736    ,\n",
       "         132.7104    , 199.0656    , 298.5984    ,   0.        ,\n",
       "           0.        ,   0.        ,   0.        ],\n",
       "        [ 20.97152   ,  31.45728   ,  47.18592   ,  70.77888   ,\n",
       "         106.16832   , 159.25248   , 238.87872   , 358.31808   ,\n",
       "           0.        ,   0.        ,   0.        ],\n",
       "        [ 16.777216  ,  25.165824  ,  37.748736  ,  56.623104  ,\n",
       "          84.934656  , 127.401984  , 191.102976  , 286.654464  ,\n",
       "         429.981696  ,   0.        ,   0.        ],\n",
       "        [ 13.4217728 ,  20.1326592 ,  30.1989888 ,  45.2984832 ,\n",
       "          67.9477248 , 101.9215872 , 152.8823808 , 229.3235712 ,\n",
       "         343.9853568 , 515.9780352 ,   0.        ],\n",
       "        [ 10.73741824,  16.10612736,  24.15919104,  36.23878656,\n",
       "          54.35817984,  81.53726976, 122.30590464, 183.45885696,\n",
       "         275.18828544, 412.78242816, 619.17364224]]),\n",
       " array([[ 10.        ,   0.        ,   0.        ,   0.        ,\n",
       "           0.        ,   0.        ,   0.        ,   0.        ,\n",
       "           0.        ,   0.        ,   0.        ],\n",
       "        [  0.        ,  30.        ,   0.        ,   0.        ,\n",
       "           0.        ,   0.        ,   0.        ,   0.        ,\n",
       "           0.        ,   0.        ,   0.        ],\n",
       "        [  0.        ,   6.        ,  54.        ,   0.        ,\n",
       "           0.        ,   0.        ,   0.        ,   0.        ,\n",
       "           0.        ,   0.        ,   0.        ],\n",
       "        [  0.        ,   0.        ,  25.2       ,  82.8       ,\n",
       "           0.        ,   0.        ,   0.        ,   0.        ,\n",
       "           0.        ,   0.        ,   0.        ],\n",
       "        [  0.        ,   0.        ,   2.16      ,  48.24      ,\n",
       "         117.36      ,   0.        ,   0.        ,   0.        ,\n",
       "           0.        ,   0.        ,   0.        ],\n",
       "        [  0.        ,   0.        ,   0.        ,  20.592     ,\n",
       "          75.888     , 158.832     ,   0.        ,   0.        ,\n",
       "           0.        ,   0.        ,   0.        ],\n",
       "        [  0.        ,   0.        ,   0.        ,   0.        ,\n",
       "          42.7104    , 109.0656    , 208.5984    ,   0.        ,\n",
       "           0.        ,   0.        ,   0.        ],\n",
       "        [  0.        ,   0.        ,   0.        ,   0.        ,\n",
       "          16.16832   ,  69.25248   , 148.87872   , 268.31808   ,\n",
       "           0.        ,   0.        ,   0.        ],\n",
       "        [  0.        ,   0.        ,   0.        ,   0.        ,\n",
       "           0.        ,  37.401984  , 101.102976  , 196.654464  ,\n",
       "         339.981696  ,   0.        ,   0.        ],\n",
       "        [  0.        ,   0.        ,   0.        ,   0.        ,\n",
       "           0.        ,  11.9215872 ,  62.8823808 , 139.3235712 ,\n",
       "         253.9853568 , 425.9780352 ,   0.        ],\n",
       "        [  0.        ,   0.        ,   0.        ,   0.        ,\n",
       "           0.        ,   0.        ,  32.30590464,  93.45885696,\n",
       "         185.18828544, 322.78242816, 529.17364224]]))"
      ]
     },
     "execution_count": 49,
     "metadata": {},
     "output_type": "execute_result"
    }
   ],
   "source": [
    "def binomial_tree_with_call(s_ini, K, T, u, d, N):\n",
    "    C = np.zeros([N+1, N+1])\n",
    "    S = np.zeros([N+1, N+1])\n",
    "    for i in range(N, -1, -1):\n",
    "        for j in range(0, i+1):\n",
    "            S[i,j] = s_ini*(u**j)*(d**(i-j))\n",
    "            C[i,j] = max(S[i,j]-K,0)\n",
    "    return S, C\n",
    "binomial_tree_with_call(100, 90, 1, 1.2, 0.8, 10)"
   ]
  },
  {
   "cell_type": "code",
   "execution_count": 77,
   "id": "521c27fd",
   "metadata": {},
   "outputs": [
    {
     "name": "stdout",
     "output_type": "stream",
     "text": [
      "16.5\n"
     ]
    }
   ],
   "source": [
    "def binomial_call_pricing(s_ini, K, T, r, u, d, N):\n",
    "    dt = T/N\n",
    "    p = (np.exp(r*dt)-d)/(u-d)\n",
    "    C = np.zeros([N+1, N+1])\n",
    "    S = np.zeros([N+1, N+1])\n",
    "    for i in range(0, N+1):\n",
    "        S[N,i] = s_ini * (u**i) * (d**(N-i))\n",
    "        C[N,i] = max(S[N,i]-K, 0)\n",
    "    for j in range(N-1,-1,-1):\n",
    "        for i in range(0, j+1):\n",
    "            C[j,i] = np.exp(-r*dt)*(p*C[j+1, i+1] + (1-p)*C[j+1, i])\n",
    "            S[j,i] = s_ini * (u**i) * (d**(j-i))\n",
    "    return round(C[0,0],2), S, C\n",
    "\n",
    "Call= binomial_call_pricing(100, 90, 10, 0, 1.2, 0.8, 2)[0]\n",
    "print(Call)"
   ]
  },
  {
   "cell_type": "markdown",
   "id": "5d212189",
   "metadata": {},
   "source": [
    "# ***Lesson 2 Put Call Parity***"
   ]
  },
  {
   "cell_type": "code",
   "execution_count": 78,
   "id": "ef21e1f1",
   "metadata": {},
   "outputs": [
    {
     "data": {
      "text/plain": [
       "(7.58,\n",
       " array([[3.60000000e+01, 0.00000000e+00, 0.00000000e+00, ...,\n",
       "         0.00000000e+00, 0.00000000e+00, 0.00000000e+00],\n",
       "        [2.52000000e+01, 3.96000000e+01, 0.00000000e+00, ...,\n",
       "         0.00000000e+00, 0.00000000e+00, 0.00000000e+00],\n",
       "        [1.76400000e+01, 2.77200000e+01, 4.35600000e+01, ...,\n",
       "         0.00000000e+00, 0.00000000e+00, 0.00000000e+00],\n",
       "        ...,\n",
       "        [1.32132126e-06, 2.07636197e-06, 3.26285453e-06, ...,\n",
       "         3.49262042e+03, 0.00000000e+00, 0.00000000e+00],\n",
       "        [9.24924879e-07, 1.45345338e-06, 2.28399817e-06, ...,\n",
       "         2.44483429e+03, 3.84188246e+03, 0.00000000e+00],\n",
       "        [6.47447415e-07, 1.01741737e-06, 1.59879872e-06, ...,\n",
       "         1.71138400e+03, 2.68931772e+03, 4.22607070e+03]], shape=(51, 51)),\n",
       " array([[ 7.5822903 ,  0.        ,  0.        , ...,  0.        ,\n",
       "          0.        ,  0.        ],\n",
       "        [ 9.54336876,  7.11166527,  0.        , ...,  0.        ,\n",
       "          0.        ,  0.        ],\n",
       "        [11.63290642,  9.06090302,  6.63837335, ...,  0.        ,\n",
       "          0.        ,  0.        ],\n",
       "        ...,\n",
       "        [35.28715092, 35.28715016, 35.28714898, ...,  0.        ,\n",
       "          0.        ,  0.        ],\n",
       "        [35.64179309, 35.64179256, 35.64179173, ...,  0.        ,\n",
       "          0.        ,  0.        ],\n",
       "        [35.99999935, 35.99999898, 35.9999984 , ...,  0.        ,\n",
       "          0.        ,  0.        ]], shape=(51, 51)))"
      ]
     },
     "execution_count": 78,
     "metadata": {},
     "output_type": "execute_result"
    }
   ],
   "source": [
    "def binomial_put_pricing(s_ini, K, T, r, u, d, N):\n",
    "    dt = T/N\n",
    "    p = (np.exp(r*dt)-d)/(u-d)\n",
    "    S = np.zeros([N+1, N+1])\n",
    "    P = np.zeros([N+1, N+1])\n",
    "    for i in range(0,N+1):\n",
    "        S[N,i] = s_ini* (u**i) * (d**(N-i))\n",
    "        P[N,i] = max(K-S[N,i],0)\n",
    "    for i in range(N-1, -1, -1):\n",
    "        for j in range(0, i+1):\n",
    "            S[i,j] = s_ini * (u**j) * (d**(i-j))\n",
    "            P[i,j] = np.exp(-r*dt)*(p*P[i+1, j+1] + (1-p)*P[i+1,j])\n",
    "    return round(P[0,0].item(),2), S, P\n",
    "binomial_put_pricing(36, 36, 50, 0.01, 1.1, 0.7, 50)"
   ]
  },
  {
   "cell_type": "markdown",
   "id": "20464679",
   "metadata": {},
   "source": [
    "### Checking Put Call Parity"
   ]
  },
  {
   "cell_type": "code",
   "execution_count": 102,
   "id": "e33ab439",
   "metadata": {},
   "outputs": [
    {
     "name": "stdout",
     "output_type": "stream",
     "text": [
      "For S=100, u=1.2, d=0.8 and r=0, 10 year horizon, call price is \n",
      " [[2.93845445e+01 0.00000000e+00 0.00000000e+00 0.00000000e+00\n",
      "  0.00000000e+00 0.00000000e+00 0.00000000e+00 0.00000000e+00\n",
      "  0.00000000e+00 0.00000000e+00 0.00000000e+00]\n",
      " [1.57572106e+01 4.30118784e+01 0.00000000e+00 0.00000000e+00\n",
      "  0.00000000e+00 0.00000000e+00 0.00000000e+00 0.00000000e+00\n",
      "  0.00000000e+00 0.00000000e+00 0.00000000e+00]\n",
      " [7.17743934e+00 2.43369819e+01 6.16867749e+01 0.00000000e+00\n",
      "  0.00000000e+00 0.00000000e+00 0.00000000e+00 0.00000000e+00\n",
      "  0.00000000e+00 0.00000000e+00 0.00000000e+00]\n",
      " [2.49687648e+00 1.18580022e+01 3.68159616e+01 8.65575882e+01\n",
      "  0.00000000e+00 0.00000000e+00 0.00000000e+00 0.00000000e+00\n",
      "  0.00000000e+00 0.00000000e+00 0.00000000e+00]\n",
      " [5.04779760e-01 4.48897320e+00 1.92270312e+01 5.44048920e+01\n",
      "  1.18710284e+02 0.00000000e+00 0.00000000e+00 0.00000000e+00\n",
      "  0.00000000e+00 0.00000000e+00 0.00000000e+00]\n",
      " [0.00000000e+00 1.00955952e+00 7.96838688e+00 3.04856755e+01\n",
      "  7.83241085e+01 1.59096460e+02 0.00000000e+00 0.00000000e+00\n",
      "  0.00000000e+00 0.00000000e+00 0.00000000e+00]\n",
      " [0.00000000e+00 0.00000000e+00 2.01911904e+00 1.39176547e+01\n",
      "  4.70536963e+01 1.09594521e+02 2.08598400e+02 0.00000000e+00\n",
      "  0.00000000e+00 0.00000000e+00 0.00000000e+00]\n",
      " [0.00000000e+00 0.00000000e+00 0.00000000e+00 4.03823808e+00\n",
      "  2.37970714e+01 7.03103213e+01 1.48878720e+02 2.68318080e+02\n",
      "  0.00000000e+00 0.00000000e+00 0.00000000e+00]\n",
      " [0.00000000e+00 0.00000000e+00 0.00000000e+00 0.00000000e+00\n",
      "  8.07647616e+00 3.95176666e+01 1.01102976e+02 1.96654464e+02\n",
      "  3.39981696e+02 0.00000000e+00 0.00000000e+00]\n",
      " [0.00000000e+00 0.00000000e+00 0.00000000e+00 0.00000000e+00\n",
      "  0.00000000e+00 1.61529523e+01 6.28823808e+01 1.39323571e+02\n",
      "  2.53985357e+02 4.25978035e+02 0.00000000e+00]\n",
      " [0.00000000e+00 0.00000000e+00 0.00000000e+00 0.00000000e+00\n",
      "  0.00000000e+00 0.00000000e+00 3.23059046e+01 9.34588570e+01\n",
      "  1.85188285e+02 3.22782428e+02 5.29173642e+02]], and put price is  \n",
      " [[19.38454451  0.          0.          0.          0.          0.\n",
      "   0.          0.          0.          0.          0.        ]\n",
      " [25.75721062 13.0118784   0.          0.          0.          0.\n",
      "   0.          0.          0.          0.          0.        ]\n",
      " [33.17743934 18.3369819   7.6867749   0.          0.          0.\n",
      "   0.          0.          0.          0.          0.        ]\n",
      " [41.29687648 25.0580022  11.6159616   3.7575882   0.          0.\n",
      "   0.          0.          0.          0.          0.        ]\n",
      " [49.54477976 33.0489732  17.0670312   6.164892    1.3502844   0.\n",
      "   0.          0.          0.          0.          0.        ]\n",
      " [57.232      41.85755952 24.24038688  9.89367552  2.43610848  0.26446032\n",
      "   0.          0.          0.          0.          0.        ]\n",
      " [63.7856     50.6784     33.03671904 15.44405472  4.34329632  0.52892064\n",
      "   0.          0.          0.          0.          0.        ]\n",
      " [69.02848    58.54272    42.81408    23.25935808  7.62875136  1.05784128\n",
      "   0.          0.          0.          0.          0.        ]\n",
      " [73.222784   64.834176   52.251264   33.376896   13.14182016  2.11568256\n",
      "   0.          0.          0.          0.          0.        ]\n",
      " [76.5782272  69.8673408  59.8010112  44.7015168  22.0522752   4.23136512\n",
      "   0.          0.          0.          0.          0.        ]\n",
      " [79.26258176 73.89387264 65.84080896 53.76121344 35.64182016  8.46273024\n",
      "   0.          0.          0.          0.          0.        ]]\n"
     ]
    }
   ],
   "source": [
    "P0, S, P = binomial_put_pricing(100, 90, 10, 0, 1.2, 0.8, 10)\n",
    "C0, S, C = binomial_call_pricing(100, 90, 10, 0, 1.2, 0.8, 10)\n",
    "print(f'For S=100, u=1.2, d=0.8 and r=0, 10 year horizon, call price is \\n {C}, and put price is  \\n {P}')"
   ]
  },
  {
   "cell_type": "code",
   "execution_count": 103,
   "id": "884e5151",
   "metadata": {},
   "outputs": [
    {
     "data": {
      "text/plain": [
       "'Put Call Parity is respected'"
      ]
     },
     "execution_count": 103,
     "metadata": {},
     "output_type": "execute_result"
    }
   ],
   "source": [
    "def put_call_parity_check(S,K,C,P,r,t):\n",
    "    for i in range(0,t+1):\n",
    "        for j in range(0,i):\n",
    "            parity = C[i,j]-P[i,j] - (S[i,j]-K*np.exp(-r*t))\n",
    "            if abs(parity) >1e-5:\n",
    "                return f'There is an arbitrage opportunity : {parity}'\n",
    "    return 'Put Call Parity is respected'\n",
    "put_call_parity_check(S, 90, C, P, 0, 10)"
   ]
  },
  {
   "cell_type": "markdown",
   "id": "8c0e5516",
   "metadata": {},
   "source": [
    "# L3 Delta Hedging"
   ]
  },
  {
   "cell_type": "code",
   "execution_count": 125,
   "id": "af5b0de2",
   "metadata": {},
   "outputs": [],
   "source": [
    "def call_option_delta(s_ini,K,T,r,u,d,N):\n",
    "    dt = T/N\n",
    "    p = (np.exp(r*dt)-d)/(u-d)\n",
    "    S = np.zeros([N+1, N+1])\n",
    "    C = np.zeros([N+1, N+1])\n",
    "    Delta = np.zeros([N, N])\n",
    "    for i in range(0,N+1):\n",
    "        S[N,i] = s_ini * (u**i) * (d**(N-i))\n",
    "        C[N,i] = max(S[N,i]-K,0)\n",
    "    for i in range(N-1, -1, -1):\n",
    "        for j in range(0,i+1):\n",
    "            S[i,j] = s_ini * (u**j) * (d**(i-j))\n",
    "            C[i,j] = np.exp(-r*dt)*(p*C[i+1, j+1] + (1-p)*C[i+1, j])\n",
    "            Delta[i,j] = (C[i+1,j+1]-C[i+1,j])/(S[i+1,j+1]-S[i+1,j])\n",
    "    return C[0,0], C, S,  Delta"
   ]
  },
  {
   "cell_type": "code",
   "execution_count": 126,
   "id": "39c079fd",
   "metadata": {},
   "outputs": [
    {
     "name": "stdout",
     "output_type": "stream",
     "text": [
      "Delta: \n",
      " [[0.68136669 0.         0.         0.         0.         0.\n",
      "  0.         0.         0.         0.        ]\n",
      " [0.53623571 0.77812069 0.         0.         0.         0.\n",
      "  0.         0.         0.         0.        ]\n",
      " [0.36566897 0.64994686 0.86356991 0.         0.         0.\n",
      "  0.         0.         0.         0.        ]\n",
      " [0.1945407  0.47975449 0.76340844 0.93034422 0.         0.\n",
      "  0.         0.         0.         0.        ]\n",
      " [0.06161862 0.28315541 0.61082055 0.8651337  0.9738179  0.\n",
      "  0.         0.         0.         0.        ]\n",
      " [0.         0.10269771 0.40346055 0.74906055 0.9425158  0.99468597\n",
      "  0.         0.         0.         0.        ]\n",
      " [0.         0.         0.17116284 0.55832568 0.87621712 0.98671492\n",
      "  1.         0.         0.         0.        ]\n",
      " [0.         0.         0.         0.2852714  0.74036187 0.96678729\n",
      "  1.         1.         0.         0.        ]\n",
      " [0.         0.         0.         0.         0.47545234 0.91696823\n",
      "  1.         1.         1.         0.        ]\n",
      " [0.         0.         0.         0.         0.         0.79242056\n",
      "  1.         1.         1.         1.        ]]\n"
     ]
    }
   ],
   "source": [
    "price, call, S, delta = call_option_delta(100, 90, 10, 0, 1.2, 0.8, 10)\n",
    "print(\"Delta: \\n\", delta)"
   ]
  },
  {
   "cell_type": "code",
   "execution_count": 115,
   "id": "dfad5c25",
   "metadata": {},
   "outputs": [
    {
     "name": "stdout",
     "output_type": "stream",
     "text": [
      "With N =   1, the price is 15.00\n",
      "With N =  10, the price is 29.38\n",
      "With N = 100, the price is 70.32\n",
      "With N = 200, the price is 85.40\n",
      "With N = 300, the price is 92.33\n",
      "With N = 400, the price is 95.84\n",
      "With N = 500, the price is 97.70\n",
      "With N = 600, the price is 98.71\n",
      "With N = 700, the price is 99.27\n",
      "With N = 800, the price is 99.58\n",
      "With N = 900, the price is 99.76\n",
      "With N = 1000, the price is 99.86\n",
      "With N = 1500, the price is 99.99\n",
      "With N = 2000, the price is 100.00\n",
      "With N = 2500, the price is 100.00\n"
     ]
    }
   ],
   "source": [
    "price_array = []\n",
    "Ns = [1, 10, 100, 200, 300, 400, 500, 600, 700, 800, 900, 1000, 1500, 2000, 2500]\n",
    "for N in [1, 10, 100, 200, 300, 400, 500, 600, 700, 800, 900, 1000, 1500, 2000, 2500]:\n",
    "    price, call, S, delta = call_option_delta(100, 90, 1, 0, 1.2, 0.8, N)\n",
    "    price_array.append(price)\n",
    "    print(\"With N = {:3d}, the price is {:.2f}\".format(N, price))"
   ]
  },
  {
   "cell_type": "code",
   "execution_count": 116,
   "id": "e9acb66f",
   "metadata": {},
   "outputs": [
    {
     "data": {
      "image/png": "[encoded data removed]",
      "text/plain": [
       "<Figure size 640x480 with 1 Axes>"
      ]
     },
     "metadata": {},
     "output_type": "display_data"
    }
   ],
   "source": [
    "import matplotlib.pyplot as plt\n",
    "plt.plot(Ns, np.array(price_array))\n",
    "plt.title(\"Convergency with steps\")\n",
    "plt.xlabel(\"Number of steps (N)\")\n",
    "plt.ylabel(\"Option Price\")\n",
    "plt.grid(True)\n",
    "plt.show()"
   ]
  },
  {
   "cell_type": "markdown",
   "id": "bfcc2921",
   "metadata": {},
   "source": [
    "# L4 Adjusting u and d for volatility"
   ]
  },
  {
   "cell_type": "code",
   "execution_count": 124,
   "id": "64c9c924",
   "metadata": {},
   "outputs": [],
   "source": [
    "def call_option_delta_vol_adj(s_ini, K, T, r, sig, N):\n",
    "    dt = T/N\n",
    "    u = np.exp(sig*np.sqrt(dt))\n",
    "    d = np.exp(-sig*np.sqrt(dt))\n",
    "    p = (np.exp(r*dt)-d)/(u-d)\n",
    "    C = np.zeros([N+1, N+1])\n",
    "    S = np.zeros([N+1, N+1])\n",
    "    Delta = np.zeros([N,N])\n",
    "    for i in range(N+1):\n",
    "        S[N,i] = s_ini* (u**i) * (d**(N-i))\n",
    "        C[N,i] = max(S[N,i]-K,0)\n",
    "    for i in range(N-1, -1,-1):\n",
    "        for j in range(0,i+1):\n",
    "            S[i,j] = s_ini * (u**j) * (d**(i-j))\n",
    "            C[i,j] = np.exp(-r*dt)*(p*C[i+1,j+1] + (1-p)*C[i+1, j])\n",
    "            Delta[i,j] = (C[i+1,j+1]-C[i+1,j])/(S[i+1,j+1]-S[i+1,j])\n",
    "    return C[0,0], S, C, Delta\n"
   ]
  },
  {
   "cell_type": "code",
   "execution_count": 122,
   "id": "2d19780c",
   "metadata": {},
   "outputs": [
    {
     "name": "stdout",
     "output_type": "stream",
     "text": [
      "With N =   1, the price is 19.14\n",
      "With N =  10, the price is 17.26\n",
      "With N = 100, the price is 17.02\n",
      "With N = 200, the price is 17.03\n",
      "With N = 300, the price is 17.01\n",
      "With N = 400, the price is 17.02\n",
      "With N = 500, the price is 17.01\n",
      "With N = 600, the price is 17.02\n",
      "With N = 700, the price is 17.02\n",
      "With N = 800, the price is 17.01\n",
      "With N = 900, the price is 17.01\n",
      "With N = 1000, the price is 17.02\n",
      "With N = 1500, the price is 17.01\n",
      "With N = 2000, the price is 17.01\n",
      "With N = 2500, the price is 17.01\n"
     ]
    }
   ],
   "source": [
    "price_array = []\n",
    "for N in [1, 10, 100, 200, 300, 400, 500, 600, 700, 800, 900, 1000, 1500, 2000, 2500]:\n",
    "    call_price, C, S, delta = call_option_delta(100, 90, 1, 0, 0.3, N)\n",
    "    price_array.append(call_price)\n",
    "    print(\"With N = {:3d}, the price is {:.2f}\".format(N, call_price))"
   ]
  },
  {
   "cell_type": "code",
   "execution_count": 123,
   "id": "7c6a9be8",
   "metadata": {},
   "outputs": [
    {
     "data": {
      "image/png": "[encoded data removed]",
      "text/plain": [
       "<Figure size 640x480 with 1 Axes>"
      ]
     },
     "metadata": {},
     "output_type": "display_data"
    }
   ],
   "source": [
    "import matplotlib.pyplot as plt\n",
    "\n",
    "N = [1, 10, 100, 200, 300, 400, 500, 600, 700, 800, 900, 1000, 1500, 2000, 2500]\n",
    "plt.plot(N, np.array(price_array))\n",
    "plt.title(\"Convergency with steps\")\n",
    "plt.xlabel(\"Number of steps (N)\")\n",
    "plt.ylabel(\"Option Price\")\n",
    "plt.grid(True)\n",
    "plt.show()"
   ]
  },
  {
   "cell_type": "code",
   "execution_count": 127,
   "id": "fee5e245",
   "metadata": {},
   "outputs": [
    {
     "data": {
      "text/plain": [
       "'/Users/macbookair/Library/Mobile Documents/com~apple~CloudDocs/WQU/4. Derivatives Pricing'"
      ]
     },
     "execution_count": 127,
     "metadata": {},
     "output_type": "execute_result"
    }
   ],
   "source": [
    "import os\n",
    "os.getcwd()"
   ]
  },
  {
   "cell_type": "code",
   "execution_count": null,
   "id": "54606bde",
   "metadata": {},
   "outputs": [],
   "source": []
  }
 ],
 "metadata": {
  "kernelspec": {
   "display_name": "test_env",
   "language": "python",
   "name": "python3"
  },
  "language_info": {
   "codemirror_mode": {
    "name": "ipython",
    "version": 3
   },
   "file_extension": ".py",
   "mimetype": "text/x-python",
   "name": "python",
   "nbconvert_exporter": "python",
   "pygments_lexer": "ipython3",
   "version": "3.11.13"
  }
 },
 "nbformat": 4,
 "nbformat_minor": 5
}
